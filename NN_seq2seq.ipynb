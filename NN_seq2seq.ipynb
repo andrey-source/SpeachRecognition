{
  "cells": [
    {
      "cell_type": "markdown",
      "metadata": {
        "id": "99f1edf7"
      },
      "source": [
        "* https://github.com/sooftware/attentions/blob/master/attentions.py - виды Attention\n",
        "* https://colab.research.google.com/github/google/sentencepiece/blob/master/python/sentencepiece_python_module_example.ipynb - sentencepiece tutorial\n",
        "\n",
        "* https://jonathanbgn.com/2021/08/30/audio-augmentation.html - аугментации\n",
        "* https://towardsdatascience.com/audio-deep-learning-made-simple-part-3-data-preparation-and-augmentation-24c6e1f6b52 - аугментации"
      ],
      "id": "99f1edf7"
    },
    {
      "cell_type": "code",
      "source": [
        "# !pip install sentencepiece\n",
        "# !pip install Levenshtein"
      ],
      "metadata": {
        "id": "QXQjCOU3X4Jc"
      },
      "id": "QXQjCOU3X4Jc",
      "execution_count": null,
      "outputs": []
    },
    {
      "cell_type": "code",
      "execution_count": null,
      "metadata": {
        "colab": {
          "base_uri": "https://localhost:8080/"
        },
        "id": "f57de2d6",
        "outputId": "90f95f1f-30f8-45ec-8d52-33fa4afe0e92"
      },
      "outputs": [
        {
          "output_type": "execute_result",
          "data": {
            "text/plain": [
              "device(type='cuda', index=3)"
            ]
          },
          "metadata": {},
          "execution_count": 4
        }
      ],
      "source": [
        "import pandas as pd\n",
        "import numpy as np\n",
        "import math\n",
        "import os\n",
        "import random\n",
        "import torchaudio\n",
        "import torch\n",
        "import torch.nn as nn\n",
        "import torch.nn.functional as F\n",
        "import sentencepiece as stp\n",
        "import librosa\n",
        "import random\n",
        "import librosa.display as display\n",
        "import Levenshtein as Lev \n",
        "\n",
        "from torch.autograd import Variable\n",
        "from tqdm.notebook import tqdm\n",
        "from typing import Optional, Tuple\n",
        "from torch.utils.data import Dataset, DataLoader, Sampler\n",
        "from torchaudio.transforms import Spectrogram, MelSpectrogram\n",
        "from matplotlib import pyplot as plt\n",
        "from torch import Tensor\n",
        "\n",
        "seed = 42\n",
        "torch.manual_seed(seed)\n",
        "torch.cuda.manual_seed_all(seed)\n",
        "np.random.seed(seed)\n",
        "random.seed(seed)\n",
        "\n",
        "device = torch.device('cuda:3')# if torch.cuda.is_available() else torch.device('cpu')\n",
        "device"
      ],
      "id": "f57de2d6"
    },
    {
      "cell_type": "markdown",
      "source": [
        "Функции подсчета расстояния и ошибочно распознанных символов"
      ],
      "metadata": {
        "id": "dTKCf7GoRz3K"
      },
      "id": "dTKCf7GoRz3K"
    },
    {
      "cell_type": "code",
      "execution_count": null,
      "metadata": {
        "id": "V29nvucIQzFH"
      },
      "outputs": [],
      "source": [
        "def distance_batch(y_true, y_pred, eos_id, len_X):\n",
        "    batch_size = y_true.size(0)\n",
        "    s = 0\n",
        "    for i in range(batch_size):\n",
        "        target = [int(j) for j in y_true[i].cpu().numpy()]\n",
        "        predict = [int(j) for j in y_pred[i].cpu().numpy()]\n",
        "        target = target[:target.index(eos_id) + 1]\n",
        "        try:\n",
        "            predict = predict[:predict.index(eos_id) + 1]\n",
        "        except:\n",
        "            predict = predict[:int(len_X[i] / 3)]\n",
        "        str_target = tokenizer.decode_ids(target)\n",
        "        str_predict = tokenizer.decode_ids(predict)\n",
        "        s += Lev.distance(str_predict, str_target)\n",
        "    return s\n",
        "\n",
        "def error_symbols(y_true, y_pred, lengths):\n",
        "    s = 0\n",
        "    for i, l in enumerate(lengths):\n",
        "        s += (y_true[i, :l-1] != y_pred[i, :l-1]).sum()\n",
        "    return s"
      ],
      "id": "V29nvucIQzFH"
    },
    {
      "cell_type": "code",
      "execution_count": null,
      "metadata": {
        "colab": {
          "base_uri": "https://localhost:8080/",
          "height": 238
        },
        "id": "df26081e",
        "outputId": "d468a140-ad19-4b38-d0b2-a8d9b37b86ec"
      },
      "outputs": [
        {
          "data": {
            "text/html": [
              "<div>\n",
              "<style scoped>\n",
              "    .dataframe tbody tr th:only-of-type {\n",
              "        vertical-align: middle;\n",
              "    }\n",
              "\n",
              "    .dataframe tbody tr th {\n",
              "        vertical-align: top;\n",
              "    }\n",
              "\n",
              "    .dataframe thead th {\n",
              "        text-align: right;\n",
              "    }\n",
              "</style>\n",
              "<table border=\"1\" class=\"dataframe\">\n",
              "  <thead>\n",
              "    <tr style=\"text-align: right;\">\n",
              "      <th></th>\n",
              "      <th>Expected</th>\n",
              "    </tr>\n",
              "    <tr>\n",
              "      <th>Id</th>\n",
              "      <th></th>\n",
              "    </tr>\n",
              "  </thead>\n",
              "  <tbody>\n",
              "    <tr>\n",
              "      <th>0</th>\n",
              "      <td>лицо чуть широковатое с круглым и твердым подб...</td>\n",
              "    </tr>\n",
              "    <tr>\n",
              "      <th>1</th>\n",
              "      <td>я видел такое о чем не смею рассказать вам отв...</td>\n",
              "    </tr>\n",
              "    <tr>\n",
              "      <th>2</th>\n",
              "      <td>я быстро справилась с собой и попала ей в тон</td>\n",
              "    </tr>\n",
              "    <tr>\n",
              "      <th>3</th>\n",
              "      <td>заохал демидов</td>\n",
              "    </tr>\n",
              "    <tr>\n",
              "      <th>4</th>\n",
              "      <td>тут будут казнить кого то важного по меньшей м...</td>\n",
              "    </tr>\n",
              "  </tbody>\n",
              "</table>\n",
              "</div>"
            ],
            "text/plain": [
              "                                             Expected\n",
              "Id                                                   \n",
              "0   лицо чуть широковатое с круглым и твердым подб...\n",
              "1   я видел такое о чем не смею рассказать вам отв...\n",
              "2       я быстро справилась с собой и попала ей в тон\n",
              "3                                      заохал демидов\n",
              "4   тут будут казнить кого то важного по меньшей м..."
            ]
          },
          "execution_count": 4,
          "metadata": {},
          "output_type": "execute_result"
        }
      ],
      "source": [
        "df = pd.read_csv('data/data/train_labels.csv')\n",
        "df_test = pd.read_csv('data/data/sample_submission.csv')\n",
        "df_test.set_index('Id', inplace=True)\n",
        "df.set_index('Id', inplace=True)\n",
        "df.head()"
      ],
      "id": "df26081e"
    },
    {
      "cell_type": "code",
      "execution_count": null,
      "metadata": {
        "id": "4e2b3844"
      },
      "outputs": [],
      "source": [
        "# l = os.listdir('data/data/train_wavs')\n",
        "# list_idx = list(map(lambda x: int(x[:-4]), l))\n",
        "# df = df.loc[list_idx]\n",
        "# df = df.iloc[:1000, :]"
      ],
      "id": "4e2b3844"
    },
    {
      "cell_type": "code",
      "execution_count": null,
      "metadata": {
        "id": "3371937e"
      },
      "outputs": [],
      "source": [
        "from sklearn.model_selection import train_test_split\n",
        "\n",
        "train_folder = 'data/data/train_wavs'\n",
        "data = [{'text': df.loc[i].Expected, 'wav': str(i) + '.wav'} for i in df.index.values]\n",
        "train_data, valid_data = train_test_split(data, train_size=0.9, shuffle=True, random_state = seed)"
      ],
      "id": "3371937e"
    },
    {
      "cell_type": "markdown",
      "source": [
        "Конфигурации загрузки "
      ],
      "metadata": {
        "id": "eiOxe85YR8sK"
      },
      "id": "eiOxe85YR8sK"
    },
    {
      "cell_type": "code",
      "execution_count": null,
      "metadata": {
        "id": "49156469"
      },
      "outputs": [],
      "source": [
        "data_folder = 'data/data/train_wavs'\n",
        "\n",
        "audio_load_config = {\n",
        "    'frame_offset': 0,       # by default 0\n",
        "    'num_frames': -1,        # by default -1\n",
        "    'normalize': False,      # by default True\n",
        "    'channels_first': True,   # by default True\n",
        "}\n",
        "\n",
        "mespectr_config = {\n",
        "    'sample_rate': 16000,\n",
        "    'n_fft': 4096,         \n",
        "    'win_length': 4096,   \n",
        "    'hop_length': 1024,    \n",
        "    'f_min': 0.0,\n",
        "    'f_max': None,\n",
        "    'pad': 0,\n",
        "    'n_mels': 128,         # count of filters\n",
        "    'window_fn': torch.hann_window,\n",
        "    'power': 2,            # 1-energy, 2-power\n",
        "    'normalized': False,\n",
        "    'wkwargs': None,\n",
        "    'center': True,\n",
        "    'pad_mode': 'reflect',\n",
        "    'onesided': True,\n",
        "    'norm': None, \n",
        "#     'mel_scale': 'htk'        \n",
        "} "
      ],
      "id": "49156469"
    },
    {
      "cell_type": "code",
      "execution_count": null,
      "metadata": {
        "id": "40640f20"
      },
      "outputs": [],
      "source": [
        "# path = 'data/data/train_wavs/12730.wav'\n",
        "# audio, sr = torchaudio.load(path, **audio_load_config)\n",
        "# Melspectr = MelSpectrogram(**mespectr_config)\n",
        "# spectr = Melspectr(audio.to(torch.FloatTensor()))\n",
        "# db_Melspectr = torchaudio.transforms.AmplitudeToDB()\n",
        "# db_spectr = db_Melspectr(spectr)\n",
        "# plt.figure(figsize = (12, 8))\n",
        "# plt.imshow(db_spectr.squeeze().numpy())\n",
        "# plt.show()"
      ],
      "id": "40640f20"
    },
    {
      "cell_type": "markdown",
      "metadata": {
        "id": "be50915f"
      },
      "source": [
        "Класс расчета вектора-статистик по мел спектрограмме, для нормировки\n"
      ],
      "id": "be50915f"
    },
    {
      "cell_type": "code",
      "execution_count": null,
      "metadata": {
        "id": "e8c023ca"
      },
      "outputs": [],
      "source": [
        "class Stats:\n",
        "    def __init__(self, data_folder, data_list, audio_load_config, mespectr_config):\n",
        "        self.size = len(data_list)\n",
        "        self.data_list = data_list\n",
        "        self.data_folder = data_folder\n",
        "        self.audio_load_config = audio_load_config\n",
        "        self.mean_vector = None\n",
        "        self.std_vector = None\n",
        "        self.mean_scalar = None\n",
        "        self.std_scalar = None\n",
        "        self.melspectr = MelSpectrogram(**mespectr_config)\n",
        "        \n",
        "\n",
        "    def __get_mell_spect(self, file_name) -> torch.Tensor:\n",
        "        full_path = os.path.join(self.data_folder, file_name)\n",
        "        audio, sample_rate = torchaudio.load(full_path, **self.audio_load_config)\n",
        "        spectr = self.melspectr(audio.to(torch.FloatTensor()))\n",
        "        return spectr\n",
        "            \n",
        "            \n",
        "    def __calculate_mean_vector(self): \n",
        "        sum_all = torch.zeros(self.melspectr.n_mels)\n",
        "        for el in tqdm(self.data_list):\n",
        "            mel_spect = self.__get_mell_spect(el['wav'])\n",
        "            mel_spect = torch.log1p(mel_spect)\n",
        "            sum_all += mel_spect[0].mean(axis = 1)\n",
        "        self.mean_vector = (sum_all / self.size).reshape(-1, 1)\n",
        "\n",
        "    def __calculate_std_vector(self):\n",
        "        std_all = torch.zeros(self.melspectr.n_mels)\n",
        "        for el in tqdm(self.data_list):\n",
        "            mel_spect = self.__get_mell_spect(el['wav'])\n",
        "            mel_spect = torch.log1p(mel_spect)\n",
        "            std_all += mel_spect[0].std(axis = 1)\n",
        "        self.std_vector = (std_all / self.size).reshape(-1, 1)      \n",
        "    \n",
        "\n",
        "    def vector_stats(self):\n",
        "        if self.mean_vector is None:\n",
        "            self.__calculate_mean_vector()\n",
        "        if self.std_vector is None:\n",
        "            self.__calculate_std_vector()\n",
        "        return self.mean_vector, self.std_vector\n",
        "    "
      ],
      "id": "e8c023ca"
    },
    {
      "cell_type": "code",
      "execution_count": null,
      "metadata": {
        "id": "f21a1f8a"
      },
      "outputs": [],
      "source": [
        "# data_folder = 'data/data/train_wavs'\n",
        "# list_dir = os.listdir(data_folder)\n",
        "# train = [{'wav':name} for name in list_dir]\n",
        "stats = Stats(data_folder=data_folder, data_list=train_data, audio_load_config = audio_load_config,\n",
        "              mespectr_config= mespectr_config)"
      ],
      "id": "f21a1f8a"
    },
    {
      "cell_type": "code",
      "execution_count": null,
      "metadata": {
        "id": "33a00714"
      },
      "outputs": [],
      "source": [
        "# means, stds = stats.vector_stats()\n",
        "# my_stats = {'mean': means, 'std': stds}\n",
        "# torch.save(my_stats, 'stats.pt')\n",
        "my_stats = torch.load('stats.pt')"
      ],
      "id": "33a00714"
    },
    {
      "cell_type": "markdown",
      "source": [
        "Записываю фразы в файл, на нем будет учиться словарь"
      ],
      "metadata": {
        "id": "AlYPhemu5xeG"
      },
      "id": "AlYPhemu5xeG"
    },
    {
      "cell_type": "code",
      "execution_count": null,
      "metadata": {
        "id": "4778b725"
      },
      "outputs": [],
      "source": [
        "def write_file(data_dict, write=True):\n",
        "    string = ''\n",
        "    for el in tqdm(data_dict):\n",
        "        string += el['text'] + '\\n'\n",
        "    if write:\n",
        "        with open('text.txt', 'w') as file:\n",
        "            file.write(string) \n",
        "    return string\n",
        "  "
      ],
      "id": "4778b725"
    },
    {
      "cell_type": "code",
      "execution_count": null,
      "metadata": {
        "colab": {
          "base_uri": "https://localhost:8080/",
          "height": 66,
          "referenced_widgets": [
            "eca6bcc1e7a3415c9ebf28bacd7decbe",
            "ec4db741956041aa83cfa5a8be4b2418",
            "0bebcfa634214c83aa69d5e00dda8836",
            "69e7c7430b484da08ebb134e424b519d",
            "1ec7225060524e02b5e12346c8c865a7",
            "97f3c754bdaa4baab4e260100021f53f",
            "a4bd23e1c4f5480a834c6a245ddda129",
            "2f37e0ed05b24b92bb79c60d7876cc92",
            "e868cb3bf1b444b9af961c64f595fba1",
            "945a261b14ac4ef9816961d8f2ed5be2",
            "cf4a2b3c1b734308bc3c6a4af2662c6e"
          ]
        },
        "id": "2e90d583",
        "outputId": "16463d00-012b-4da4-8922-679aceb149c8"
      },
      "outputs": [
        {
          "data": {
            "text/plain": [
              "True"
            ]
          },
          "execution_count": 13,
          "metadata": {},
          "output_type": "execute_result"
        }
      ],
      "source": [
        "# f1 = write_file(train_data)\n",
        "\n",
        "# stp.SentencePieceTrainer.train('--input=text.txt\\\n",
        "#                                --model_prefix=m_unigram_1000\\\n",
        "#                                --vocab_size=1000\\\n",
        "#                                --model_type=unigram\\\n",
        "#                                --character_coverage=1.0')  # --character_coverage=0.9995\n",
        "\n",
        "tokenizer = stp.SentencePieceProcessor()\n",
        "tokenizer.load('m_unigram_1000.model')"
      ],
      "id": "2e90d583"
    },
    {
      "cell_type": "markdown",
      "source": [
        "Класс аугментации"
      ],
      "metadata": {
        "id": "C92XyfgFSStr"
      },
      "id": "C92XyfgFSStr"
    },
    {
      "cell_type": "code",
      "execution_count": null,
      "metadata": {
        "id": "ViEaCrKnQzFO"
      },
      "outputs": [],
      "source": [
        "class WavAugmentation():\n",
        "    def __init__(self, sample_rate):\n",
        "        self.sample_rate = sample_rate\n",
        "    \n",
        "    def __call__(self, audio_data):\n",
        "        speed_factor = np.random.uniform(0.85, 1.15)\n",
        "        pitch_factor = np.random.uniform(-200, 200)\n",
        "        gain_factor = np.random.uniform(-0.2, 0.2)\n",
        "        \n",
        "        \n",
        "        sox_effects = [\n",
        "            ['gain', str(gain_factor)],  # normalises to 0dB\n",
        "            ['pitch', str(pitch_factor)],\n",
        "            [\"speed\", str(speed_factor)],\n",
        "            [\"rate\", str(self.sample_rate)],\n",
        "        ]\n",
        "        transformed_audio, _ = torchaudio.sox_effects.apply_effects_tensor(\n",
        "            audio_data, self.sample_rate, sox_effects)\n",
        "        return transformed_audio"
      ],
      "id": "ViEaCrKnQzFO"
    },
    {
      "cell_type": "code",
      "execution_count": null,
      "metadata": {
        "id": "facab401"
      },
      "outputs": [],
      "source": [
        "class SpectrogramDataset(Dataset):\n",
        "    def __init__(self, data_folder: str, data_list: dict, audio_load_config: set, mespectr_config: set, \n",
        "           tokenizer:stp.SentencePieceTrainer, stats: dict = None, use_augmentation: bool=True) -> None:\n",
        "        super(SpectrogramDataset, self).__init__()\n",
        "        \n",
        "        self.data_folder = data_folder\n",
        "        self.data_list = data_list\n",
        "        self.size = len(self.data_list)\n",
        "        self.audio_load_config = audio_load_config\n",
        "        self.melspectr = MelSpectrogram(**mespectr_config)\n",
        "        self.tokenizer = tokenizer\n",
        "        self.stats = stats\n",
        "        self.wav_augmentation = WavAugmentation(mespectr_config['sample_rate'])\n",
        "        self.use_augmentation = use_augmentation\n",
        "\n",
        "            \n",
        "    def __getitem__(self, index: int) -> Tuple[Tensor, Tensor]:\n",
        "        wav_name = self.data_list[index]['wav']\n",
        "        transcript = self.data_list[index]['text']\n",
        "        audio_path = os.path.join(self.data_folder, wav_name)\n",
        "        spect = self.parse_audio(audio_path)\n",
        "        transcript = self.parse_transcript(transcript)\n",
        "        return spect, transcript\n",
        "    \n",
        "    def parse_audio(self, audio_path: str) -> Tensor:\n",
        "        audio, sr = torchaudio.load(audio_path, **self.audio_load_config)\n",
        "        if self.use_augmentation:\n",
        "            audio = self.wav_augmentation(audio)\n",
        "        spect = self.melspectr(audio.to(torch.FloatTensor()))\n",
        "        spect = torch.log1p(spect)\n",
        "        if self.stats is not None:\n",
        "            spect -= self.stats['mean']\n",
        "            spect /= self.stats['std']\n",
        "        return spect\n",
        "    \n",
        "    def parse_transcript(self, transcript) -> Tensor:\n",
        "        transcript = self.tokenizer.encode_as_ids(transcript)   \n",
        "        transcript.insert(0, self.tokenizer.bos_id())\n",
        "        transcript.append(self.tokenizer.eos_id())\n",
        "        return transcript\n",
        "\n",
        "    def __len__(self) -> int:\n",
        "        return self.size\n",
        "    \n",
        "  \n",
        "def _collate_fn(batch):\n",
        "    def seq_length_(p):\n",
        "        return p[0].size(1)\n",
        "    def target_length_(p):\n",
        "        return len(p[1]) \n",
        "    \n",
        "    batch = sorted(batch, key=lambda sample: sample[0].size(2), reverse=True) # сортировка для упаковки rnn \n",
        "    seq_lengths = [s[0].size(2) for s in batch]\n",
        "    target_lengths = [len(s[1]) for s in batch]\n",
        "    max_seq_size = max(seq_lengths)\n",
        "    max_target_size = max(target_lengths)\n",
        "\n",
        "    feat_size = batch[0][0].size(1)\n",
        "    batch_size = len(batch)\n",
        "\n",
        "    seqs = torch.zeros(batch_size, 1, feat_size, max_seq_size)\n",
        "    targets = torch.zeros(batch_size, max_target_size).to(torch.long)\n",
        "    \n",
        "    for i in range(batch_size):\n",
        "        tensor, target = batch[i][0], batch[i][1]\n",
        "        seqs[i][:, :, :seq_lengths[i]] = tensor\n",
        "        targets[i][:target_lengths[i]] = torch.IntTensor(target)\n",
        "#     seq_lengths = torch.IntTensor(seq_lengths)\n",
        "    return seqs, targets, seq_lengths, target_lengths\n",
        "\n",
        "class AudioDataLoader(DataLoader):\n",
        "    def __init__(self, *args, **kwargs):\n",
        "        super(AudioDataLoader, self).__init__(*args, **kwargs)\n",
        "        self.collate_fn = _collate_fn\n",
        "        \n",
        "class BucketingSampler(Sampler):\n",
        "    def __init__(self, data_source, batch_size=1):\n",
        "        super(BucketingSampler, self).__init__(data_source)\n",
        "        self.data_source = data_source\n",
        "        ids = list(range(0, len(data_source)))\n",
        "        self.bins = [ids[i:i + batch_size] for i in range(0, len(ids), batch_size)]\n",
        "\n",
        "    def __iter__(self):\n",
        "        for ids in self.bins:\n",
        "            np.random.shuffle(ids)\n",
        "            yield ids\n",
        "\n",
        "    def __len__(self):\n",
        "        return len(self.bins)\n",
        "\n",
        "    def shuffle(self, epoch):\n",
        "        np.random.shuffle(self.bins)"
      ],
      "id": "facab401"
    },
    {
      "cell_type": "code",
      "execution_count": null,
      "metadata": {
        "id": "3a570cb6"
      },
      "outputs": [],
      "source": [
        "class EncoderRNN(nn.Module):\n",
        "    def __init__(self, feat_size: int, enc_dim: int, n_layers: int = 3, conv_channel: int = 32, \n",
        "                 bidirectional=True, dropout=0.3) -> None:\n",
        "        super(EncoderRNN, self).__init__()\n",
        "        self.enc_dim = enc_dim\n",
        "        self.n_layers = n_layers\n",
        "        self.conv = nn.Sequential(\n",
        "            nn.Conv2d(1, conv_channel, kernel_size=(41, 11), stride=(2, 2), padding=(20, 5)),\n",
        "            nn.BatchNorm2d(conv_channel),\n",
        "            nn.Hardtanh(0, 20, inplace=True),\n",
        "            nn.Conv2d(conv_channel, conv_channel, kernel_size=(21, 11), stride=(2, 1), padding=(10, 5)),\n",
        "            nn.BatchNorm2d(conv_channel),\n",
        "            nn.Hardtanh(0, 20, inplace=True)\n",
        "        )\n",
        "        rnn_input_dims = int(math.floor(feat_size + 2 * 20 - 41) / 2 + 1)\n",
        "        rnn_input_dims = int(math.floor(rnn_input_dims + 2 * 10 - 21) / 2 + 1)\n",
        "        rnn_input_dims *= conv_channel\n",
        "        self.rnn =  nn.LSTM(rnn_input_dims, enc_dim, n_layers, bidirectional=bidirectional, dropout=dropout)\n",
        "        \n",
        "        for p in self.parameters():\n",
        "            if p.dim() > 1:\n",
        "                nn.init.xavier_uniform_(p)\n",
        "\n",
        "\n",
        "    def forward(self, x, len_x=None) -> Tuple[Tensor, Tuple[Tensor, Tensor]]:\n",
        "        x = self.conv(x)\n",
        "        total_length = x.size(3)\n",
        "        x = x.view(x.size(0), x.size(1) * x.size(2), x.size(3)) # (B, C * D, T) \n",
        "        x = x.permute(0, 2, 1).contiguous() # (B,T,D)\n",
        "        output_lengths = self.get_seq_lens(len_x)\n",
        "        x = nn.utils.rnn.pack_padded_sequence(x,\n",
        "                                              output_lengths.cpu(),\n",
        "                                              batch_first=True,\n",
        "                                              enforce_sorted=False)\n",
        "\n",
        "        x, (h, c) = self.rnn(x)\n",
        "        x, _ = nn.utils.rnn.pad_packed_sequence(x, batch_first=True, total_length=total_length, padding_value = 0.0)\n",
        "        return x\n",
        "\n",
        "\n",
        "    def get_seq_lens(self, input_length) -> int:\n",
        "        seq_len = input_length\n",
        "        for m in self.conv.modules():\n",
        "            if type(m) == nn.modules.conv.Conv2d :\n",
        "                seq_len = ((seq_len + 2 * m.padding[1] - m.dilation[1] * (m.kernel_size[1] - 1) - 1) / m.stride[1] + 1)\n",
        "        return seq_len.int()"
      ],
      "id": "3a570cb6"
    },
    {
      "cell_type": "code",
      "execution_count": null,
      "metadata": {
        "id": "N6uFvDwhqnAq"
      },
      "outputs": [],
      "source": [
        "class LocationAwareAttention(nn.Module):\n",
        "\n",
        "    def __init__(self, dec_dim: int, enc_dim: int, attn_dim: int, smoothing: bool = True) -> None:\n",
        "        super(LocationAwareAttention, self).__init__()\n",
        "        self.dec_dim = dec_dim\n",
        "        self.conv1d = nn.Conv1d(in_channels=1, out_channels=attn_dim, kernel_size=3, padding=1)\n",
        "        self.W_dec = nn.Linear(dec_dim, attn_dim, bias=False)\n",
        "        self.W_enc = nn.Linear(enc_dim, attn_dim, bias=False)\n",
        "        self.score = nn.Linear(attn_dim, 1, bias=True)\n",
        "        self.bias = nn.Parameter(torch.rand(attn_dim).uniform_(-0.1, 0.1))\n",
        "        self.smoothing = smoothing\n",
        "\n",
        "    def forward(self, query: Tensor, value: Tensor, last_attn: Tensor) -> Tuple[Tensor, Tensor]:\n",
        "        batch_size, hidden_dim, seq_len = query.size(0), query.size(2), value.size(1)\n",
        "        conv_attn = torch.transpose(self.conv1d(last_attn.unsqueeze(dim=1)), 1, 2)\n",
        "        score = self.score(torch.tanh(self.W_dec(query) + self.W_enc(value) + conv_attn + self.bias)).squeeze(dim=-1)\n",
        "\n",
        "        if self.smoothing:\n",
        "            score = torch.sigmoid(score)\n",
        "            attn = torch.div(score, score.sum(dim=-1).unsqueeze(dim=-1))\n",
        "        else:\n",
        "            attn = F.softmax(score, dim=-1)\n",
        "        context = torch.bmm(attn.unsqueeze(dim=1), value).squeeze(dim=1)  # Bx1xT X BxTxD => Bx1xD => BxD\n",
        "        return context, attn\n",
        "\n",
        "\n",
        "class MultiHeadLocationAwareAttention(nn.Module):\n",
        "    \"\"\"\n",
        "    query: decoder_output\n",
        "    value: encoder_output\n",
        "    \"\"\"\n",
        "\n",
        "    def __init__(self, dec_dim, enc_dim, attn_dim, num_heads = 8, conv_out_channel = 10):\n",
        "        super(MultiHeadLocationAwareAttention, self).__init__()\n",
        "        self.dim_head = int(attn_dim / num_heads)\n",
        "        self.num_heads = num_heads\n",
        "        self.W_enc = nn.Linear(enc_dim, num_heads * self.dim_head, bias=False)\n",
        "        self.W_dec = nn.Linear(dec_dim, num_heads * self.dim_head, bias=False)\n",
        "        \n",
        "        self.loc_proj = nn.Linear(conv_out_channel, self.dim_head, bias=False)\n",
        "        self.conv1d = nn.Conv1d(num_heads, conv_out_channel, kernel_size=3, padding=1)\n",
        "        \n",
        "        self.bias = nn.Parameter(torch.rand(self.dim_head).uniform_(-0.1, 0.1))\n",
        "        self.score = nn.Linear(self.dim_head, 1, bias=True)\n",
        "        \n",
        "        \n",
        "    def forward(self, dec_out, enc_out, last_attn):\n",
        "        \"\"\"\n",
        "        dec_out: B x 1 x D_dim\n",
        "        enc_out: B x L_enc x E_dim * 2  (bidiractional)\n",
        "        last_attn: B x N_head x L_enc\n",
        "        \"\"\"   \n",
        "        batch_size, seq_len = enc_out.size(0), enc_out.size(1)\n",
        "        if last_attn is None:\n",
        "            last_attn = enc_out.new_zeros(batch_size, self.num_heads, seq_len)\n",
        "            \n",
        "        loc_energy = torch.tanh(self.loc_proj(self.conv1d(last_attn).transpose(1, 2))) # B x l_enc x D_head\n",
        "        loc_energy = loc_energy.unsqueeze(1).repeat(1, self.num_heads, 1, 1).view(-1, seq_len, self.dim_head)\n",
        "        \n",
        "        dec_out = self.W_dec(dec_out).view(batch_size, -1, self.num_heads, self.dim_head).permute(0, 2, 1, 3)\n",
        "        enc_out = self.W_enc(enc_out).view(batch_size, -1, self.num_heads, self.dim_head).permute(0, 2, 1, 3)\n",
        "        \n",
        "        \n",
        "        dec_out = dec_out.contiguous().view(-1, 1, self.dim_head)\n",
        "        enc_out = enc_out.contiguous().view(-1, seq_len, self.dim_head)\n",
        "        \n",
        "        score = self.score(torch.tanh(dec_out + enc_out + loc_energy + self.bias)).squeeze(2)\n",
        "        attn = F.softmax(score, dim=1)\n",
        "        enc_out = enc_out.view(batch_size, seq_len, self.num_heads, self.dim_head).permute(0, 2, 1, 3)\n",
        "        enc_out = enc_out.contiguous().view(-1, seq_len, self.dim_head)\n",
        "        context = torch.bmm(attn.unsqueeze(dim=1), enc_out).view(batch_size, -1, self.num_heads * self.dim_head)\n",
        "        attn = attn.view(batch_size, self.num_heads, -1)\n",
        "        return context.squeeze(dim=1), attn  "
      ],
      "id": "N6uFvDwhqnAq"
    },
    {
      "cell_type": "code",
      "execution_count": null,
      "metadata": {
        "id": "YnNAhBcjd0p2"
      },
      "outputs": [],
      "source": [
        "class DecoderRNN(nn.Module):\n",
        "    \n",
        "    def __init__(self, dec_dim: int, enc_dim: int, attn_dim: int, bos_id: int, \n",
        "                 eos_id: int, vocab_size: int, attention: LocationAwareAttention, \n",
        "                 n_layers: int = 3, bidirectional_encoder: bool = True, dropout: float = 0.2) -> None: \n",
        "        super(DecoderRNN, self).__init__()\n",
        "        self.dec_dim = dec_dim\n",
        "        self.enc_dim = enc_dim * 2 if bidirectional_encoder else enc_dim\n",
        "        self.n_layers = n_layers\n",
        "        self.bos_id = bos_id\n",
        "        self.eos_id = eos_id\n",
        "        self.dropout = nn.Dropout(dropout)\n",
        "        self.rnn = nn.LSTM(dec_dim + self.enc_dim, dec_dim, num_layers = n_layers, batch_first=True)    \n",
        "        self.embedding = nn.Embedding(vocab_size, dec_dim, padding_idx=0)\n",
        "        self.attention = attention\n",
        "        self.fc = nn.Linear(dec_dim + self.enc_dim, vocab_size)\n",
        "        for p in self.parameters():\n",
        "            if p.dim() > 1:\n",
        "                nn.init.xavier_uniform_(p)\n",
        "\n",
        "\n",
        "    def forward(self, encoder_outputs: Tensor, id_seq: Tensor, teacher_forcing_ratio=1, mode: str = 'train', max_length: int=200) -> Tensor:        \n",
        "        if mode == 'train':\n",
        "            logits = self._train(id_seq, encoder_outputs, teacher_forcing_ratio)\n",
        "        else:\n",
        "            logits = self._inference(encoder_outputs, max_length) \n",
        "        return logits  \n",
        "      \n",
        "    def _train(self, id_seq, encoder_outputs, teacher_forcing_ratio):\n",
        "        batch_size = encoder_outputs.size(0)\n",
        "        hidden = None\n",
        "        attn = encoder_outputs.new_zeros(batch_size, encoder_outputs.size(1))\n",
        "        context = encoder_outputs.new_zeros(batch_size, encoder_outputs.size(2))\n",
        "        embedings = self.embedding(id_seq)\n",
        "        embedings = self.dropout(embedings)\n",
        "        logits = []\n",
        "        logit = None\n",
        "        for i in range(embedings.size(1)):\n",
        "            embeding = embedings[:, i, :]   \n",
        "            if logit is not None and teacher_forcing_ratio != 1:\n",
        "                pred_labels = logit.topk(1, dim=1)[1] \n",
        "                pred_embeding = self.embedding(pred_labels).squeeze() \n",
        "                p = torch.rand(batch_size)\n",
        "                mask = teacher_forcing_ratio < p\n",
        "                embeding[mask] = pred_embeding[mask]   \n",
        "            rnn_input = torch.cat([embeding, context], dim=1)\n",
        "            rnn_input = rnn_input.unsqueeze(1)  # [B, 1, D_dec + D_enc]\n",
        "            output, hidden = self.rnn(rnn_input, hidden)\n",
        "            context, attn = self.attention(output, encoder_outputs, attn)\n",
        "            output = output.squeeze(1)\n",
        "            context = context.squeeze(1)\n",
        "            output = self.dropout(output)\n",
        "            context = self.dropout(context)\n",
        "            output = torch.cat([output, context], dim=1)\n",
        "            logit = self.fc(output)\n",
        "#             logit = F.log_softmax(self.fc(output), dim=-1)\n",
        "            logits.append(logit)\n",
        "        logits = torch.stack(logits, dim=1)\n",
        "        return logits      \n",
        "        \n",
        "    def _inference(self, encoder_outputs: torch.Tensor, max_length: int = 350):\n",
        "        batch_size = encoder_outputs.size(0)\n",
        "        hidden = None\n",
        "        attn = encoder_outputs.new_zeros(batch_size, encoder_outputs.size(1))\n",
        "        context = encoder_outputs.new_zeros(batch_size, encoder_outputs.size(2))\n",
        "        id_seq = torch.LongTensor([self.bos_id] * batch_size).view(batch_size, 1).to(device) # [B, 1]  \n",
        "        logits = []\n",
        "        for i in range(max_length):\n",
        "            embeding = self.embedding(id_seq)  # [B, 1, D_dec] \n",
        "            embeding = self.dropout(embeding)\n",
        "            embeding = embeding.squeeze(1) # [B, D_dec]\n",
        "            rnn_input = torch.cat([embeding, context], dim=1)\n",
        "            rnn_input = rnn_input.unsqueeze(1)  # [B, 1, D_dec + D_enc]\n",
        "            output, hidden = self.rnn(rnn_input, hidden)\n",
        "            context, attn = self.attention(output, encoder_outputs, attn)\n",
        "            output = output.squeeze(1)\n",
        "            context = context.squeeze(1)\n",
        "            output = self.dropout(output)\n",
        "            context = self.dropout(context)\n",
        "            output = torch.cat([output, context], dim=1)\n",
        "            logit = self.fc(output)\n",
        "#             logit = F.log_softmax(self.fc(output), dim=-1)\n",
        "            logits.append(logit)\n",
        "            id_seq = logit.topk(1, dim=1)[1]\n",
        "        logits = torch.stack(logits, dim=1)\n",
        "        return logits            "
      ],
      "id": "YnNAhBcjd0p2"
    },
    {
      "cell_type": "code",
      "execution_count": null,
      "metadata": {
        "id": "bb1c037b"
      },
      "outputs": [],
      "source": [
        "class Seq2Seq(nn.Module):\n",
        "    def __init__(self, encoder: EncoderRNN, decoder: DecoderRNN) -> None:\n",
        "        super(Seq2Seq, self).__init__()\n",
        "        self.encoder = encoder\n",
        "        self.decoder = decoder\n",
        "\n",
        "    def forward(self, spect: Tensor, len_spect=None, id_seq=None, teacher_forcing_ratio=1, mode: str = 'train', max_length: int = 80) -> Tensor:\n",
        "        self.encoder.rnn.flatten_parameters()\n",
        "        encoder_outputs = self.encoder(spect, len_spect)\n",
        "        self.decoder.rnn.flatten_parameters()\n",
        "        decoder_output = self.decoder(encoder_outputs, id_seq, teacher_forcing_ratio, mode, max_length)                                                     \n",
        "        return decoder_output\n",
        "    \n",
        "    @staticmethod\n",
        "    def get_param_size(model):\n",
        "        params = 0\n",
        "        for p in model.parameters():\n",
        "            tmp = 1\n",
        "            for x in p.size():\n",
        "                tmp *= x\n",
        "            params += tmp\n",
        "        return params"
      ],
      "id": "bb1c037b"
    },
    {
      "cell_type": "code",
      "execution_count": 1,
      "metadata": {
        "id": "f61625a8"
      },
      "outputs": [],
      "source": [
        "batch_size = 32\n",
        "train_dataset = SpectrogramDataset(data_folder, train_data, audio_load_config, mespectr_config, \n",
        "           tokenizer, stats = my_stats, use_augmentation=True\n",
        ")\n",
        "train_sampler = BucketingSampler(train_dataset, batch_size=batch_size)\n",
        "train_loader = AudioDataLoader(train_dataset, batch_sampler=train_sampler, num_workers=4)\n",
        "\n",
        "\n",
        "valid_dataset = SpectrogramDataset(data_folder, valid_data, audio_load_config, mespectr_config, \n",
        "           tokenizer, stats = my_stats, use_augmentation=False\n",
        ")\n",
        "valid_sampler = BucketingSampler(valid_dataset, batch_size=batch_size)\n",
        "valid_loader = AudioDataLoader(valid_dataset, batch_sampler=valid_sampler, num_workers=4)"
      ],
      "id": "f61625a8"
    },
    {
      "cell_type": "code",
      "execution_count": null,
      "metadata": {
        "id": "qazZRg7_QzFR"
      },
      "outputs": [],
      "source": [
        "def save(model, optimizer, epoch, losses, lev_distance, symbol_errors):\n",
        "    state = {\n",
        "        'epoch': epoch,\n",
        "        'state_dict': model.state_dict(),\n",
        "        'optimizer': optimizer.state_dict(),\n",
        "        'losses': losses,\n",
        "        'lev_distance': lev_distance,\n",
        "        'symbol_errors': symbol_errors\n",
        "    }\n",
        "    torch.save(state, 'seq2seq_base_1000.pth') # las_final 0."
      ],
      "id": "qazZRg7_QzFR"
    },
    {
      "cell_type": "code",
      "execution_count": 2,
      "metadata": {
        "id": "65476a4f"
      },
      "outputs": [],
      "source": [
        "feat_size = mespectr_config['n_mels']  # число фрагментов частот в мелспектрограмме\n",
        "bos_id = tokenizer.bos_id()\n",
        "eos_id = tokenizer.eos_id()\n",
        "vocab_size = tokenizer.vocab_size() # размер словаря токенов\n",
        "\n",
        "\n",
        "enc_dim = 512  # размер скрытого слоя енкодера\n",
        "enc_layers = 3  # число слоев в декодоре\n",
        "dec_dim = 512  # размер скрытого слояв декодере\n",
        "dec_layers = 3 # число слоев в енкодере\n",
        "attn_dim = 512  # размер ембедингов attention-а\n",
        "max_len = 200 # максимальная длина прогноза (используется в inferece)\n",
        "conv_channel = 32\n",
        "bidirection_encoder = True\n",
        "smoothing = True\n",
        "D = 2 if bidirection_encoder else 1\n",
        "dropout = 0.3\n",
        "\n",
        "learning_anneal = 1.1\n",
        "weight_decay= 0# 1e-5\n",
        "# lr = 1e-1 # for SGD\n",
        "lr = 3e-4 # for Adam\n",
        "norm_grad = 3\n",
        "\n",
        "\n",
        "criterion = nn.CrossEntropyLoss(reduction='mean', ignore_index=0).to(device)\n",
        "encoder = EncoderRNN(feat_size, enc_dim, enc_layers, conv_channel, bidirection_encoder, dropout)\n",
        "\n",
        "attention = LocationAwareAttention(dec_dim, enc_dim * D, attn_dim, smoothing)\n",
        "decoder = DecoderRNN(dec_dim, enc_dim, attn_dim, bos_id, eos_id, vocab_size, \n",
        "                     attention, dec_layers, bidirection_encoder, dropout)\n",
        "\n",
        "model = Seq2Seq(encoder, decoder)"
      ],
      "id": "65476a4f"
    },
    {
      "cell_type": "markdown",
      "source": [
        "* train - на обучающей выборке\n",
        "* valid - на валидационной с истинными токенаи, т.е. проверял насколько предсказывают хорошо текущий токен\n",
        "* hard_valid - честная валидация, никуда не подглядываю\n"
      ],
      "metadata": {
        "id": "AoseXY8VUCAY"
      },
      "id": "AoseXY8VUCAY"
    },
    {
      "cell_type": "code",
      "execution_count": null,
      "metadata": {
        "id": "Vedks9IiQzFR"
      },
      "outputs": [],
      "source": [
        "model = model.to(device)\n",
        "optimizer = torch.optim.Adam(model.parameters(), lr=lr, weight_decay=weight_decay)\n",
        "# optimizer = torch.optim.SGD(model.parameters(), lr=lr, momentum=0.9)\n",
        "losses = {'train': [], 'valid': [], 'hard_valid': []}\n",
        "lev_distance = {'train': [], 'valid': [], 'hard_valid': []}\n",
        "symbol_errors = {'train': [], 'valid': [], 'hard_valid': []}"
      ],
      "id": "Vedks9IiQzFR"
    },
    {
      "cell_type": "code",
      "execution_count": null,
      "metadata": {
        "id": "SBo62HpCQzFR"
      },
      "outputs": [],
      "source": [
        "checkpoint = torch.load('seq2seq_base_1000.pth', map_location=torch.device('cpu'))\n",
        "model.load_state_dict(checkpoint['state_dict'])\n",
        "model = model.to(device)\n",
        "optimizer = torch.optim.Adam(model.parameters(), lr=lr, weight_decay=weight_decay)\n",
        "# optimizer = torch.optim.SGD(model.parameters(), lr=lr, momentum=0.9)\n",
        "optimizer.load_state_dict(checkpoint['optimizer'])\n",
        "\n",
        "epoch = checkpoint['epoch']\n",
        "losses = checkpoint['losses']\n",
        "lev_distance = checkpoint['lev_distance']\n",
        "symbol_errors = checkpoint['symbol_errors']"
      ],
      "id": "SBo62HpCQzFR"
    },
    {
      "cell_type": "markdown",
      "source": [
        "В вычислительных экспериментах почти всегда использовал Adam, стартовал обычно с 3e-4, далее, когда выходил на плато, (примерно лосс ~1.2 уменьшал руками)\n",
        "Также, почти всегда в начале использовал teacher forcing, и когда начинал переобучаться подключал sheduler forcing 0.7-0.8 истинных примеров). Эти примеры докидывались с помощью битовой маски, т.е. если батч 32 то примерно 0.2-0.3 * 32 объектов использовались для следующего прогноза. Ниже идет простыня кода))"
      ],
      "metadata": {
        "id": "EmsTP8V0Uh41"
      },
      "id": "EmsTP8V0Uh41"
    },
    {
      "cell_type": "code",
      "execution_count": null,
      "metadata": {
        "id": "y-4KRCYDQzFR",
        "outputId": "575eaec6-4507-401d-c11c-c1c49b8aacad"
      },
      "outputs": [
        {
          "name": "stdout",
          "output_type": "stream",
          "text": [
            "Learning rate annealed to: 0.000050\n"
          ]
        }
      ],
      "source": [
        "for g in optimizer.param_groups:\n",
        "    g['lr'] = g['lr'] = 5e-5\n",
        "    print('Learning rate annealed to: {lr:.6f}'.format(lr=g['lr']))"
      ],
      "id": "y-4KRCYDQzFR"
    },
    {
      "cell_type": "code",
      "execution_count": null,
      "metadata": {
        "colab": {
          "referenced_widgets": [
            "01d79964ae834b49841c785ba92b0d18",
            "25b58db83dab4406aec1a8c35657ced1"
          ]
        },
        "id": "18RqBu2MQzFS",
        "outputId": "a829b274-db68-4c0f-fade-fb86f76f8cb7"
      },
      "outputs": [
        {
          "data": {
            "application/vnd.jupyter.widget-view+json": {
              "model_id": "01d79964ae834b49841c785ba92b0d18",
              "version_major": 2,
              "version_minor": 0
            },
            "text/plain": [
              "HBox(children=(FloatProgress(value=0.0, max=5.0), HTML(value='')))"
            ]
          },
          "metadata": {},
          "output_type": "display_data"
        },
        {
          "data": {
            "application/vnd.jupyter.widget-view+json": {
              "model_id": "25b58db83dab4406aec1a8c35657ced1",
              "version_major": 2,
              "version_minor": 0
            },
            "text/plain": [
              "HBox(children=(FloatProgress(value=0.0, max=2813.0), HTML(value='')))"
            ]
          },
          "metadata": {},
          "output_type": "display_data"
        }
      ],
      "source": [
        "for epoch in tqdm(range(5)):\n",
        "    model.train()\n",
        "    l_train, dis_train, symbol_train_error = 0, 0, 0    \n",
        "    pbar = tqdm(iter(train_loader), leave = True, total=len(train_loader))    \n",
        "    for i, batch in enumerate(pbar): \n",
        "        X, y, len_X, len_y = batch\n",
        "        y = y.to(device)\n",
        "        X = X.to(device)\n",
        "        len_X = torch.Tensor(len_X).to(device)\n",
        "        optimizer.zero_grad()\n",
        "        logit = model(X, len_X, y[:, :-1], 0.7, 'train')\n",
        "        loss = criterion(logit.contiguous().view(-1, logit.size(-1)), y[:, 1:].contiguous().view(-1))\n",
        "        loss.backward()\n",
        "        torch.nn.utils.clip_grad_norm_(model.parameters(), norm_grad)\n",
        "        optimizer.step()\n",
        "        l_train += loss.detach().item()\n",
        "        y_pred = logit.max(-1)[1]\n",
        "        symbol_train_error += error_symbols(y[:, 1:], y_pred, len_y)\n",
        "        dis_train += distance_batch(y[:, 1:], y_pred, eos_id, len_X)\n",
        "    symbol_errors['train'].append(symbol_train_error / len(train_dataset))\n",
        "    lev_distance['train'].append(dis_train / len(train_dataset))\n",
        "    losses['train'].append(l_train / len(train_loader))\n",
        "    \n",
        "    \n",
        "    with torch.no_grad():\n",
        "        model.eval()\n",
        "        l_valid, dis_valid, symbol_valid_error = 0, 0, 0\n",
        "        pbar = tqdm(iter(valid_loader), leave = True, total=len(valid_loader))\n",
        "        for i, batch in enumerate(pbar):\n",
        "            X, y, len_X, len_y = batch\n",
        "            X = X.to(device)\n",
        "            y = y.to(device)\n",
        "            len_X = torch.Tensor(len_X).to(device)\n",
        "            logit = model(X, len_X, y[:, :-1])\n",
        "            loss = criterion(logit.contiguous().view(-1, logit.size(-1)), y[:, 1:].contiguous().view(-1))\n",
        "            l_valid += loss.detach().item()\n",
        "            y_pred = logit.max(-1)[1]\n",
        "            symbol_valid_error += error_symbols(y[:, 1:], y_pred, len_y)\n",
        "            dis_valid += distance_batch(y[:, 1:], y_pred, eos_id, len_X)\n",
        "        symbol_errors['valid'].append(symbol_valid_error / len(valid_dataset))\n",
        "        lev_distance['valid'].append(dis_valid / len(valid_dataset))\n",
        "        losses['valid'].append(l_valid / len(valid_loader))\n",
        "#         \n",
        "\n",
        "    # жеcткая валидация\n",
        "        l_valid_hard, dis_valid_hard,symbol_valid_error_hard  = 0, 0, 0\n",
        "        pbar = tqdm(iter(valid_loader), leave = True, total=len(valid_loader))\n",
        "        for i, batch in enumerate(pbar):\n",
        "            X, y, len_X, len_y = batch\n",
        "            X = X.to(device)\n",
        "            y = y.to(device)\n",
        "            len_X = torch.Tensor(len_X)\n",
        "            logit = model(X, len_X, None, None, 'valid', max_len)\n",
        "            y_pred = logit.max(-1)[1] \n",
        "            logit = logit[:, :y.size(1) - 1, :]\n",
        "            loss = criterion(logit.contiguous().view(-1, logit.size(-1)), y[:, 1:].contiguous().view(-1))\n",
        "            l_valid_hard += loss.item()\n",
        "            symbol_valid_error_hard += error_symbols(y[:, 1:], y_pred, len_y)\n",
        "            dis_valid_hard += distance_batch(y[:, 1:], y_pred, eos_id, len_X)\n",
        "        symbol_errors['hard_valid'].append(symbol_valid_error_hard / len(valid_dataset))\n",
        "        lev_distance['hard_valid'].append(dis_valid_hard / len(valid_dataset))\n",
        "        losses['hard_valid'].append(l_valid_hard / len(valid_loader))\n",
        "\n",
        "    print('epoch: ', epoch)\n",
        "    print('train_loss: {:.3f}, valid_loss: {:.3f}, hard_valid_loss: {:.3f}'.format(\n",
        "        losses['train'][-1], losses['valid'][-1], losses['hard_valid'][-1]))\n",
        "    \n",
        "    print('train_symbol_error: {:.3f}, valid_symbol_error: {:.3f}, hard_valid_symbol_error: {:.3f}'.format(\n",
        "        symbol_errors['train'][-1], symbol_errors['valid'][-1], symbol_errors['hard_valid'][-1]))\n",
        "    \n",
        "    print('train_dis: {:.3f}, valid_dis: {:.3f}, hard_valid_dis: {:.3f}'.format(\n",
        "        lev_distance['train'][-1], lev_distance['valid'][-1], lev_distance['hard_valid'][-1]))\n",
        "    save(model, optimizer, epoch, losses, lev_distance, symbol_errors)\n",
        "    \n",
        "    \n",
        "#     for g in optimizer.param_groups:\n",
        "#         g['lr'] = g['lr'] / learning_anneal\n",
        "#         print('Learning rate annealed to: {lr:.6f}'.format(lr=g['lr']))"
      ],
      "id": "18RqBu2MQzFS"
    },
    {
      "cell_type": "markdown",
      "source": [
        "Графички"
      ],
      "metadata": {
        "id": "91n1bP1UVsky"
      },
      "id": "91n1bP1UVsky"
    },
    {
      "cell_type": "code",
      "source": [
        "checkpoint = torch.load('seq2seq_base_1000.pth', map_location=torch.device('cpu'))\n",
        "losses = checkpoint['losses']\n",
        "lev_distance = checkpoint['lev_distance']\n",
        "symbol_errors = checkpoint['symbol_errors']"
      ],
      "metadata": {
        "id": "pkYRFOeNYdDD"
      },
      "id": "pkYRFOeNYdDD",
      "execution_count": null,
      "outputs": []
    },
    {
      "cell_type": "code",
      "execution_count": null,
      "metadata": {
        "id": "FsOnq9slQzFS",
        "colab": {
          "base_uri": "https://localhost:8080/",
          "height": 282
        },
        "outputId": "06f1b279-61d6-40f1-9bc8-5fe53ef931af"
      },
      "outputs": [
        {
          "output_type": "execute_result",
          "data": {
            "text/plain": [
              "[<matplotlib.lines.Line2D at 0x7f108017d890>]"
            ]
          },
          "metadata": {},
          "execution_count": 8
        },
        {
          "output_type": "display_data",
          "data": {
            "text/plain": [
              "<Figure size 432x288 with 1 Axes>"
            ],
            "image/png": "[encoded data removed]"
          },
          "metadata": {
            "needs_background": "light"
          }
        }
      ],
      "source": [
        "plt.grid()\n",
        "plt.plot(losses['train'])\n",
        "plt.plot(losses['valid'])\n",
        "plt.plot(losses['hard_valid'])"
      ],
      "id": "FsOnq9slQzFS"
    },
    {
      "cell_type": "markdown",
      "source": [
        "По итогу на моей \"честной\" валидации расстояние Ливенштейна ~ 13, на кегле 17 (почему так не разобрался, сплитил всегда с одим сидом на трейнт и тест)"
      ],
      "metadata": {
        "id": "Q9Ao7G4w35dQ"
      },
      "id": "Q9Ao7G4w35dQ"
    },
    {
      "cell_type": "code",
      "execution_count": null,
      "metadata": {
        "id": "Qy_XvR8SQzFT",
        "colab": {
          "base_uri": "https://localhost:8080/",
          "height": 282
        },
        "outputId": "c4906f9e-4639-4eb6-accc-1f1e93bff405"
      },
      "outputs": [
        {
          "output_type": "execute_result",
          "data": {
            "text/plain": [
              "[<matplotlib.lines.Line2D at 0x7f107fc5dcd0>]"
            ]
          },
          "metadata": {},
          "execution_count": 9
        },
        {
          "output_type": "display_data",
          "data": {
            "text/plain": [
              "<Figure size 432x288 with 1 Axes>"
            ],
            "image/png": "[encoded data removed]"
          },
          "metadata": {
            "needs_background": "light"
          }
        }
      ],
      "source": [
        "plt.grid()\n",
        "plt.plot(lev_distance['train'])\n",
        "plt.plot(lev_distance['valid'])\n",
        "plt.plot(lev_distance['hard_valid'])"
      ],
      "id": "Qy_XvR8SQzFT"
    },
    {
      "cell_type": "code",
      "execution_count": null,
      "metadata": {
        "id": "23mfFQn6QzFT",
        "colab": {
          "base_uri": "https://localhost:8080/",
          "height": 282
        },
        "outputId": "73f7587a-fb16-426c-ab38-063ccef5499f"
      },
      "outputs": [
        {
          "output_type": "execute_result",
          "data": {
            "text/plain": [
              "[<matplotlib.lines.Line2D at 0x7f107fbde050>]"
            ]
          },
          "metadata": {},
          "execution_count": 10
        },
        {
          "output_type": "display_data",
          "data": {
            "text/plain": [
              "<Figure size 432x288 with 1 Axes>"
            ],
            "image/png": "[encoded data removed]"
          },
          "metadata": {
            "needs_background": "light"
          }
        }
      ],
      "source": [
        "plt.grid()\n",
        "plt.plot(symbol_errors['train'])\n",
        "plt.plot(symbol_errors['valid'])\n",
        "plt.plot(symbol_errors['hard_valid'])"
      ],
      "id": "23mfFQn6QzFT"
    },
    {
      "cell_type": "code",
      "execution_count": null,
      "metadata": {
        "id": "G8igFKEnQzFT"
      },
      "outputs": [],
      "source": [
        "it = iter(valid_loader)"
      ],
      "id": "G8igFKEnQzFT"
    },
    {
      "cell_type": "code",
      "execution_count": null,
      "metadata": {
        "id": "gMBOyHx3QzFT"
      },
      "outputs": [],
      "source": [
        "batch = next(it)"
      ],
      "id": "gMBOyHx3QzFT"
    },
    {
      "cell_type": "code",
      "execution_count": null,
      "metadata": {
        "id": "1dBHLBZWQzFT"
      },
      "outputs": [],
      "source": [
        "model.eval()\n",
        "tensor, indexes, tensor_len, indexes_len = batch\n",
        "batch_size = tensor.size(0)\n",
        "tensor = tensor.to(device)\n",
        "indexes = indexes.to(device)\n",
        "tensor_len = torch.Tensor(tensor_len).to(device)\n",
        "target = indexes[:, 1:]\n",
        "logit = logit = model(tensor, tensor_len, None, None, 'valid', max_len)\n",
        "y_hat = logit.max(-1)[1]"
      ],
      "id": "1dBHLBZWQzFT"
    },
    {
      "cell_type": "code",
      "execution_count": null,
      "metadata": {
        "id": "JRXgaKQSQzFT"
      },
      "outputs": [],
      "source": [
        "tr = [int(i) for i in target[5].cpu().numpy()]\n",
        "tr = tr[:tr.index(eos_id)]\n",
        "str_target = tokenizer.decode_ids(tr)\n",
        "pr = [int(i) for i in y_hat[5].cpu().numpy()]\n",
        "pr = pr[:pr.index(eos_id)]\n",
        "str_predict = tokenizer.decode_ids(pr)"
      ],
      "id": "JRXgaKQSQzFT"
    },
    {
      "cell_type": "code",
      "execution_count": null,
      "metadata": {
        "id": "xJXW8EsBQzFU"
      },
      "outputs": [],
      "source": [
        "str_target"
      ],
      "id": "xJXW8EsBQzFU"
    },
    {
      "cell_type": "code",
      "execution_count": null,
      "metadata": {
        "id": "ggLsAIneQzFU"
      },
      "outputs": [],
      "source": [
        "str_predict"
      ],
      "id": "ggLsAIneQzFU"
    },
    {
      "cell_type": "markdown",
      "source": [
        "инференс"
      ],
      "metadata": {
        "id": "iFrvCdTGVvbd"
      },
      "id": "iFrvCdTGVvbd"
    },
    {
      "cell_type": "code",
      "execution_count": null,
      "metadata": {
        "id": "HeprxsAsQzFU"
      },
      "outputs": [],
      "source": [
        "class test_SpectrogramDataset(Dataset):\n",
        "    def __init__(self, data_folder: str, data_list: dict, audio_load_config: set, mespectr_config: set, \n",
        "           stats: dict = None) -> None:\n",
        "        super(test_SpectrogramDataset, self).__init__()\n",
        "        self.data_folder = data_folder\n",
        "        self.data_list = data_list\n",
        "        self.size = len(self.data_list)\n",
        "        self.audio_load_config = audio_load_config\n",
        "        self.melspectr = MelSpectrogram(**mespectr_config)\n",
        "        self.stats = stats\n",
        "\n",
        "            \n",
        "    def __getitem__(self, index: int) -> Tuple[Tensor, Tensor]:\n",
        "        wav_name = self.data_list[index]['wav']\n",
        "        audio_path = os.path.join(self.data_folder, wav_name)\n",
        "        spect = self.parse_audio(audio_path)\n",
        "        return spect\n",
        "    \n",
        "    def parse_audio(self, audio_path: str) -> Tensor:\n",
        "        audio, sr = torchaudio.load(audio_path, **self.audio_load_config)\n",
        "        spect = self.melspectr(audio.to(torch.FloatTensor()))\n",
        "        spect = torch.log1p(spect)\n",
        "        if self.stats is not None:\n",
        "            spect -= self.stats['mean']\n",
        "            spect /= self.stats['std']\n",
        "        return spect\n",
        "    \n",
        "\n",
        "    def __len__(self) -> int:\n",
        "        return self.size\n",
        "    \n",
        "  \n",
        "def _collate_fn(batch):\n",
        "    def seq_length_(p):\n",
        "        return p[0].size(1)\n",
        "    \n",
        "    seq_lengths = [l.size(2) for l in batch]\n",
        "    true_pos = np.argsort(np.array(seq_lengths))[::-1]\n",
        "    batch = sorted(batch, key=lambda sample: sample.size(2), reverse=True) # сортировка для упаковки rnn \n",
        "    seq_lengths = [s.size(2) for s in batch]\n",
        "    max_seq_size = max(seq_lengths)\n",
        "    feat_size = batch[0].size(1)\n",
        "\n",
        "    batch_size = len(batch)\n",
        "\n",
        "    seqs = torch.zeros(batch_size, 1, feat_size, max_seq_size)\n",
        "\n",
        "    \n",
        "    for i in range(batch_size):\n",
        "        seqs[i][:, :, :seq_lengths[i]] = batch[i]\n",
        "    return seqs, seq_lengths, true_pos\n",
        "\n",
        "class test_AudioDataLoader(DataLoader):\n",
        "    def __init__(self, *args, **kwargs):\n",
        "        super(test_AudioDataLoader, self).__init__(*args, **kwargs)\n",
        "        self.collate_fn = _collate_fn\n",
        "        \n",
        "        \n",
        "        \n",
        "class test_BucketingSampler(Sampler):\n",
        "    def __init__(self, data_source, batch_size=1):\n",
        "        super(test_BucketingSampler, self).__init__(data_source)\n",
        "        self.data_source = data_source\n",
        "        ids = list(range(0, len(data_source)))\n",
        "        self.bins = [ids[i:i + batch_size] for i in range(0, len(ids), batch_size)]\n",
        "\n",
        "        \n",
        "    def __iter__(self):\n",
        "        for ids in self.bins:\n",
        "            yield ids\n",
        "\n",
        "    def __len__(self):\n",
        "        return len(self.bins)\n",
        "\n",
        "    def shuffle(self, epoch):\n",
        "        pass"
      ],
      "id": "HeprxsAsQzFU"
    },
    {
      "cell_type": "code",
      "execution_count": null,
      "metadata": {
        "id": "QlgUXqIIQzFU"
      },
      "outputs": [],
      "source": [
        "test_folder = 'data/data/test_wavs'\n",
        "data_test = [{'wav':str(i) + '.wav'} for i in df_test.index.values]\n",
        "batch_size = 16\n",
        "test_dataset = test_SpectrogramDataset(test_folder, data_test, audio_load_config, mespectr_config, \n",
        "                                       stats = my_stats)\n",
        "test_sampler = test_BucketingSampler(test_dataset, batch_size=batch_size)\n",
        "test_loader = test_AudioDataLoader(test_dataset, batch_sampler=test_sampler)"
      ],
      "id": "QlgUXqIIQzFU"
    },
    {
      "cell_type": "code",
      "execution_count": null,
      "metadata": {
        "id": "t3Y2oPMnQzFU"
      },
      "outputs": [],
      "source": [
        "def decod(y_pred, eos_id, sort_pos, len_X):\n",
        "    batch_size = y_pred.size(0)\n",
        "    \n",
        "    re_sort = torch.zeros_like(y_pred)\n",
        "    re_len_X = torch.zeros_like(len_X)\n",
        "    for i, pos in enumerate(sort_pos):\n",
        "        re_sort[pos] = y_pred[i]\n",
        "        re_len_X[pos] = len_X[i]\n",
        "    all_string = []\n",
        "    for i, sample in enumerate(re_sort):\n",
        "        sample = sample.tolist()\n",
        "        try:\n",
        "            sample = sample[:sample.index(eos_id) + 1]\n",
        "        except:\n",
        "            sample = sample[:int(re_len_X[i] / 3)]\n",
        "        \n",
        "        all_string.append(tokenizer.decode_ids(sample))\n",
        "    \n",
        "    return all_string"
      ],
      "id": "t3Y2oPMnQzFU"
    },
    {
      "cell_type": "code",
      "execution_count": null,
      "metadata": {
        "colab": {
          "referenced_widgets": [
            "35100d30e0ec4560a3c2fcc65c5866aa"
          ]
        },
        "id": "Ex25bL6qQzFV",
        "outputId": "b3779754-c75a-468c-dc54-2312a2046f0a"
      },
      "outputs": [
        {
          "data": {
            "application/vnd.jupyter.widget-view+json": {
              "model_id": "35100d30e0ec4560a3c2fcc65c5866aa",
              "version_major": 2,
              "version_minor": 0
            },
            "text/plain": [
              "HBox(children=(FloatProgress(value=0.0, max=1250.0), HTML(value='')))"
            ]
          },
          "metadata": {},
          "output_type": "display_data"
        },
        {
          "name": "stdout",
          "output_type": "stream",
          "text": [
            "\n"
          ]
        }
      ],
      "source": [
        "model.eval()\n",
        "inference = []\n",
        "pbar = tqdm(iter(test_loader), leave = True, total=len(test_loader))        \n",
        "for j, batch in enumerate(pbar):\n",
        "    X, len_X, sort_pos = batch\n",
        "    X = X.to(device)\n",
        "    len_X = torch.Tensor(len_X).to(device)\n",
        "    logit = model(X, len_X, None, None, 'valid', 200)\n",
        "    y_pred = logit.max(-1)[1] \n",
        "    res = decod(y_pred, eos_id, sort_pos, len_X)\n",
        "    inference += res"
      ],
      "id": "Ex25bL6qQzFV"
    },
    {
      "cell_type": "code",
      "execution_count": null,
      "metadata": {
        "id": "IsmJYICCQzFV"
      },
      "outputs": [],
      "source": [
        "df_test = pd.read_csv('data/data/sample_submission.csv')\n",
        "df_test.Predicted = inference"
      ],
      "id": "IsmJYICCQzFV"
    },
    {
      "cell_type": "code",
      "execution_count": null,
      "metadata": {
        "id": "_KNw40YSQzFV",
        "outputId": "658f984c-0a4a-4282-b2d7-31eeed7083b2"
      },
      "outputs": [
        {
          "data": {
            "text/html": [
              "<div>\n",
              "<style scoped>\n",
              "    .dataframe tbody tr th:only-of-type {\n",
              "        vertical-align: middle;\n",
              "    }\n",
              "\n",
              "    .dataframe tbody tr th {\n",
              "        vertical-align: top;\n",
              "    }\n",
              "\n",
              "    .dataframe thead th {\n",
              "        text-align: right;\n",
              "    }\n",
              "</style>\n",
              "<table border=\"1\" class=\"dataframe\">\n",
              "  <thead>\n",
              "    <tr style=\"text-align: right;\">\n",
              "      <th></th>\n",
              "      <th>Id</th>\n",
              "      <th>Predicted</th>\n",
              "    </tr>\n",
              "  </thead>\n",
              "  <tbody>\n",
              "    <tr>\n",
              "      <th>0</th>\n",
              "      <td>100000</td>\n",
              "      <td>выслов из палабня депитантри владе граф широ в...</td>\n",
              "    </tr>\n",
              "    <tr>\n",
              "      <th>1</th>\n",
              "      <td>100001</td>\n",
              "      <td>а списка не нужно зазвучала несколько грубок н...</td>\n",
              "    </tr>\n",
              "    <tr>\n",
              "      <th>2</th>\n",
              "      <td>100002</td>\n",
              "      <td>я подумаю что я могу сделать мне поступить шес...</td>\n",
              "    </tr>\n",
              "    <tr>\n",
              "      <th>3</th>\n",
              "      <td>100003</td>\n",
              "      <td>я взял еще громче заплакал</td>\n",
              "    </tr>\n",
              "    <tr>\n",
              "      <th>4</th>\n",
              "      <td>100004</td>\n",
              "      <td>как нельзя сказать что она свеживает властин р...</td>\n",
              "    </tr>\n",
              "    <tr>\n",
              "      <th>...</th>\n",
              "      <td>...</td>\n",
              "      <td>...</td>\n",
              "    </tr>\n",
              "    <tr>\n",
              "      <th>19995</th>\n",
              "      <td>119995</td>\n",
              "      <td>я поняла что та жеткая боли была прожжна в пер...</td>\n",
              "    </tr>\n",
              "    <tr>\n",
              "      <th>19996</th>\n",
              "      <td>119996</td>\n",
              "      <td>выборни себя что не надела как на конуние соби...</td>\n",
              "    </tr>\n",
              "    <tr>\n",
              "      <th>19997</th>\n",
              "      <td>119997</td>\n",
              "      <td>это очень хорошиекурдского орудия</td>\n",
              "    </tr>\n",
              "    <tr>\n",
              "      <th>19998</th>\n",
              "      <td>119998</td>\n",
              "      <td>там у него и мать разъесть</td>\n",
              "    </tr>\n",
              "    <tr>\n",
              "      <th>19999</th>\n",
              "      <td>119999</td>\n",
              "      <td>но и андрей как и сина джерримен объяснил как ...</td>\n",
              "    </tr>\n",
              "  </tbody>\n",
              "</table>\n",
              "<p>20000 rows × 2 columns</p>\n",
              "</div>"
            ],
            "text/plain": [
              "           Id                                          Predicted\n",
              "0      100000  выслов из палабня депитантри владе граф широ в...\n",
              "1      100001  а списка не нужно зазвучала несколько грубок н...\n",
              "2      100002  я подумаю что я могу сделать мне поступить шес...\n",
              "3      100003                         я взял еще громче заплакал\n",
              "4      100004  как нельзя сказать что она свеживает властин р...\n",
              "...       ...                                                ...\n",
              "19995  119995  я поняла что та жеткая боли была прожжна в пер...\n",
              "19996  119996  выборни себя что не надела как на конуние соби...\n",
              "19997  119997                  это очень хорошиекурдского орудия\n",
              "19998  119998                         там у него и мать разъесть\n",
              "19999  119999  но и андрей как и сина джерримен объяснил как ...\n",
              "\n",
              "[20000 rows x 2 columns]"
            ]
          },
          "execution_count": 32,
          "metadata": {},
          "output_type": "execute_result"
        }
      ],
      "source": [
        "df_test"
      ],
      "id": "_KNw40YSQzFV"
    },
    {
      "cell_type": "code",
      "execution_count": null,
      "metadata": {
        "id": "81CyjIM9QzFV"
      },
      "outputs": [],
      "source": [
        "df_test.to_csv('predict.csv', index=False)"
      ],
      "id": "81CyjIM9QzFV"
    },
    {
      "cell_type": "code",
      "execution_count": null,
      "metadata": {
        "id": "IVI34VINQzFV",
        "outputId": "4c5f7093-dd1e-4f5d-f457-926da9397098"
      },
      "outputs": [
        {
          "data": {
            "text/html": [
              "\n",
              "                <audio  controls=\"controls\" >\n",
              "                    <source src=\"data:audio/x-wav;base64,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\" type=\"audio/x-wav\" />\n",
              "                    Your browser does not support the audio element.\n",
              "                </audio>\n",
              "              "
            ],
            "text/plain": [
              "<IPython.lib.display.Audio object>"
            ]
          },
          "execution_count": 55,
          "metadata": {},
          "output_type": "execute_result"
        }
      ],
      "source": [
        "from IPython.display import Audio\n",
        "\n",
        "Audio(filename='data/data/test_wavs/100035.wav')"
      ],
      "id": "IVI34VINQzFV"
    },
    {
      "cell_type": "code",
      "execution_count": null,
      "metadata": {
        "id": "xS9PzwKyQzFV",
        "outputId": "d8277457-89ae-4c50-99b5-c24a162cf7bb"
      },
      "outputs": [
        {
          "data": {
            "text/plain": [
              "'отдадим до сама нашего ордака'"
            ]
          },
          "execution_count": 56,
          "metadata": {},
          "output_type": "execute_result"
        }
      ],
      "source": [
        "t = df_test.iloc[35]\n",
        "t.Predicted"
      ],
      "id": "xS9PzwKyQzFV"
    }
  ],
  "metadata": {
    "celltoolbar": "Tags",
    "colab": {
      "collapsed_sections": [],
      "name": "NN_seq2seq.ipynb",
      "provenance": []
    },
    "kernelspec": {
      "display_name": "Python 3",
      "language": "python",
      "name": "python3"
    },
    "language_info": {
      "codemirror_mode": {
        "name": "ipython",
        "version": 3
      },
      "file_extension": ".py",
      "mimetype": "text/x-python",
      "name": "python",
      "nbconvert_exporter": "python",
      "pygments_lexer": "ipython3",
      "version": "3.7.6"
    },
    "widgets": {
      "application/vnd.jupyter.widget-state+json": {
        "0bebcfa634214c83aa69d5e00dda8836": {
          "model_module": "@jupyter-widgets/controls",
          "model_module_version": "1.5.0",
          "model_name": "FloatProgressModel",
          "state": {
            "_dom_classes": [],
            "_model_module": "@jupyter-widgets/controls",
            "_model_module_version": "1.5.0",
            "_model_name": "FloatProgressModel",
            "_view_count": null,
            "_view_module": "@jupyter-widgets/controls",
            "_view_module_version": "1.5.0",
            "_view_name": "ProgressView",
            "bar_style": "success",
            "description": "",
            "description_tooltip": null,
            "layout": "IPY_MODEL_2f37e0ed05b24b92bb79c60d7876cc92",
            "max": 800,
            "min": 0,
            "orientation": "horizontal",
            "style": "IPY_MODEL_e868cb3bf1b444b9af961c64f595fba1",
            "value": 800
          }
        },
        "1ec7225060524e02b5e12346c8c865a7": {
          "model_module": "@jupyter-widgets/base",
          "model_module_version": "1.2.0",
          "model_name": "LayoutModel",
          "state": {
            "_model_module": "@jupyter-widgets/base",
            "_model_module_version": "1.2.0",
            "_model_name": "LayoutModel",
            "_view_count": null,
            "_view_module": "@jupyter-widgets/base",
            "_view_module_version": "1.2.0",
            "_view_name": "LayoutView",
            "align_content": null,
            "align_items": null,
            "align_self": null,
            "border": null,
            "bottom": null,
            "display": null,
            "flex": null,
            "flex_flow": null,
            "grid_area": null,
            "grid_auto_columns": null,
            "grid_auto_flow": null,
            "grid_auto_rows": null,
            "grid_column": null,
            "grid_gap": null,
            "grid_row": null,
            "grid_template_areas": null,
            "grid_template_columns": null,
            "grid_template_rows": null,
            "height": null,
            "justify_content": null,
            "justify_items": null,
            "left": null,
            "margin": null,
            "max_height": null,
            "max_width": null,
            "min_height": null,
            "min_width": null,
            "object_fit": null,
            "object_position": null,
            "order": null,
            "overflow": null,
            "overflow_x": null,
            "overflow_y": null,
            "padding": null,
            "right": null,
            "top": null,
            "visibility": null,
            "width": null
          }
        },
        "2f37e0ed05b24b92bb79c60d7876cc92": {
          "model_module": "@jupyter-widgets/base",
          "model_module_version": "1.2.0",
          "model_name": "LayoutModel",
          "state": {
            "_model_module": "@jupyter-widgets/base",
            "_model_module_version": "1.2.0",
            "_model_name": "LayoutModel",
            "_view_count": null,
            "_view_module": "@jupyter-widgets/base",
            "_view_module_version": "1.2.0",
            "_view_name": "LayoutView",
            "align_content": null,
            "align_items": null,
            "align_self": null,
            "border": null,
            "bottom": null,
            "display": null,
            "flex": null,
            "flex_flow": null,
            "grid_area": null,
            "grid_auto_columns": null,
            "grid_auto_flow": null,
            "grid_auto_rows": null,
            "grid_column": null,
            "grid_gap": null,
            "grid_row": null,
            "grid_template_areas": null,
            "grid_template_columns": null,
            "grid_template_rows": null,
            "height": null,
            "justify_content": null,
            "justify_items": null,
            "left": null,
            "margin": null,
            "max_height": null,
            "max_width": null,
            "min_height": null,
            "min_width": null,
            "object_fit": null,
            "object_position": null,
            "order": null,
            "overflow": null,
            "overflow_x": null,
            "overflow_y": null,
            "padding": null,
            "right": null,
            "top": null,
            "visibility": null,
            "width": null
          }
        },
        "69e7c7430b484da08ebb134e424b519d": {
          "model_module": "@jupyter-widgets/controls",
          "model_module_version": "1.5.0",
          "model_name": "HTMLModel",
          "state": {
            "_dom_classes": [],
            "_model_module": "@jupyter-widgets/controls",
            "_model_module_version": "1.5.0",
            "_model_name": "HTMLModel",
            "_view_count": null,
            "_view_module": "@jupyter-widgets/controls",
            "_view_module_version": "1.5.0",
            "_view_name": "HTMLView",
            "description": "",
            "description_tooltip": null,
            "layout": "IPY_MODEL_945a261b14ac4ef9816961d8f2ed5be2",
            "placeholder": "​",
            "style": "IPY_MODEL_cf4a2b3c1b734308bc3c6a4af2662c6e",
            "value": " 800/800 [00:00&lt;00:00,  4.43it/s]"
          }
        },
        "945a261b14ac4ef9816961d8f2ed5be2": {
          "model_module": "@jupyter-widgets/base",
          "model_module_version": "1.2.0",
          "model_name": "LayoutModel",
          "state": {
            "_model_module": "@jupyter-widgets/base",
            "_model_module_version": "1.2.0",
            "_model_name": "LayoutModel",
            "_view_count": null,
            "_view_module": "@jupyter-widgets/base",
            "_view_module_version": "1.2.0",
            "_view_name": "LayoutView",
            "align_content": null,
            "align_items": null,
            "align_self": null,
            "border": null,
            "bottom": null,
            "display": null,
            "flex": null,
            "flex_flow": null,
            "grid_area": null,
            "grid_auto_columns": null,
            "grid_auto_flow": null,
            "grid_auto_rows": null,
            "grid_column": null,
            "grid_gap": null,
            "grid_row": null,
            "grid_template_areas": null,
            "grid_template_columns": null,
            "grid_template_rows": null,
            "height": null,
            "justify_content": null,
            "justify_items": null,
            "left": null,
            "margin": null,
            "max_height": null,
            "max_width": null,
            "min_height": null,
            "min_width": null,
            "object_fit": null,
            "object_position": null,
            "order": null,
            "overflow": null,
            "overflow_x": null,
            "overflow_y": null,
            "padding": null,
            "right": null,
            "top": null,
            "visibility": null,
            "width": null
          }
        },
        "97f3c754bdaa4baab4e260100021f53f": {
          "model_module": "@jupyter-widgets/base",
          "model_module_version": "1.2.0",
          "model_name": "LayoutModel",
          "state": {
            "_model_module": "@jupyter-widgets/base",
            "_model_module_version": "1.2.0",
            "_model_name": "LayoutModel",
            "_view_count": null,
            "_view_module": "@jupyter-widgets/base",
            "_view_module_version": "1.2.0",
            "_view_name": "LayoutView",
            "align_content": null,
            "align_items": null,
            "align_self": null,
            "border": null,
            "bottom": null,
            "display": null,
            "flex": null,
            "flex_flow": null,
            "grid_area": null,
            "grid_auto_columns": null,
            "grid_auto_flow": null,
            "grid_auto_rows": null,
            "grid_column": null,
            "grid_gap": null,
            "grid_row": null,
            "grid_template_areas": null,
            "grid_template_columns": null,
            "grid_template_rows": null,
            "height": null,
            "justify_content": null,
            "justify_items": null,
            "left": null,
            "margin": null,
            "max_height": null,
            "max_width": null,
            "min_height": null,
            "min_width": null,
            "object_fit": null,
            "object_position": null,
            "order": null,
            "overflow": null,
            "overflow_x": null,
            "overflow_y": null,
            "padding": null,
            "right": null,
            "top": null,
            "visibility": null,
            "width": null
          }
        },
        "a4bd23e1c4f5480a834c6a245ddda129": {
          "model_module": "@jupyter-widgets/controls",
          "model_module_version": "1.5.0",
          "model_name": "DescriptionStyleModel",
          "state": {
            "_model_module": "@jupyter-widgets/controls",
            "_model_module_version": "1.5.0",
            "_model_name": "DescriptionStyleModel",
            "_view_count": null,
            "_view_module": "@jupyter-widgets/base",
            "_view_module_version": "1.2.0",
            "_view_name": "StyleView",
            "description_width": ""
          }
        },
        "cf4a2b3c1b734308bc3c6a4af2662c6e": {
          "model_module": "@jupyter-widgets/controls",
          "model_module_version": "1.5.0",
          "model_name": "DescriptionStyleModel",
          "state": {
            "_model_module": "@jupyter-widgets/controls",
            "_model_module_version": "1.5.0",
            "_model_name": "DescriptionStyleModel",
            "_view_count": null,
            "_view_module": "@jupyter-widgets/base",
            "_view_module_version": "1.2.0",
            "_view_name": "StyleView",
            "description_width": ""
          }
        },
        "e868cb3bf1b444b9af961c64f595fba1": {
          "model_module": "@jupyter-widgets/controls",
          "model_module_version": "1.5.0",
          "model_name": "ProgressStyleModel",
          "state": {
            "_model_module": "@jupyter-widgets/controls",
            "_model_module_version": "1.5.0",
            "_model_name": "ProgressStyleModel",
            "_view_count": null,
            "_view_module": "@jupyter-widgets/base",
            "_view_module_version": "1.2.0",
            "_view_name": "StyleView",
            "bar_color": null,
            "description_width": ""
          }
        },
        "ec4db741956041aa83cfa5a8be4b2418": {
          "model_module": "@jupyter-widgets/controls",
          "model_module_version": "1.5.0",
          "model_name": "HTMLModel",
          "state": {
            "_dom_classes": [],
            "_model_module": "@jupyter-widgets/controls",
            "_model_module_version": "1.5.0",
            "_model_name": "HTMLModel",
            "_view_count": null,
            "_view_module": "@jupyter-widgets/controls",
            "_view_module_version": "1.5.0",
            "_view_name": "HTMLView",
            "description": "",
            "description_tooltip": null,
            "layout": "IPY_MODEL_97f3c754bdaa4baab4e260100021f53f",
            "placeholder": "​",
            "style": "IPY_MODEL_a4bd23e1c4f5480a834c6a245ddda129",
            "value": "100%"
          }
        },
        "eca6bcc1e7a3415c9ebf28bacd7decbe": {
          "model_module": "@jupyter-widgets/controls",
          "model_module_version": "1.5.0",
          "model_name": "HBoxModel",
          "state": {
            "_dom_classes": [],
            "_model_module": "@jupyter-widgets/controls",
            "_model_module_version": "1.5.0",
            "_model_name": "HBoxModel",
            "_view_count": null,
            "_view_module": "@jupyter-widgets/controls",
            "_view_module_version": "1.5.0",
            "_view_name": "HBoxView",
            "box_style": "",
            "children": [
              "IPY_MODEL_ec4db741956041aa83cfa5a8be4b2418",
              "IPY_MODEL_0bebcfa634214c83aa69d5e00dda8836",
              "IPY_MODEL_69e7c7430b484da08ebb134e424b519d"
            ],
            "layout": "IPY_MODEL_1ec7225060524e02b5e12346c8c865a7"
          }
        }
      }
    }
  },
  "nbformat": 4,
  "nbformat_minor": 5
}